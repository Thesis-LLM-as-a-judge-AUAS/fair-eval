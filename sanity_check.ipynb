{
 "cells": [
  {
   "metadata": {},
   "cell_type": "markdown",
   "source": "# Library",
   "id": "d53d3d96026009e2"
  },
  {
   "metadata": {
    "collapsed": true,
    "ExecuteTime": {
     "end_time": "2025-04-15T13:08:01.701354Z",
     "start_time": "2025-04-15T13:08:01.699266Z"
    }
   },
   "cell_type": "code",
   "source": [
    "import pandas as pd\n",
    "import numpy as np\n",
    "import matplotlib.pyplot as plt\n",
    "from sklearn.metrics import cohen_kappa_score"
   ],
   "id": "initial_id",
   "outputs": [],
   "execution_count": 91
  },
  {
   "metadata": {},
   "cell_type": "markdown",
   "source": "Function that plots the bars of accuracy between 2 preset of parameters",
   "id": "4ae48477c549bf0b"
  },
  {
   "metadata": {
    "ExecuteTime": {
     "end_time": "2025-04-15T13:08:01.720647Z",
     "start_time": "2025-04-15T13:08:01.717196Z"
    }
   },
   "cell_type": "code",
   "source": [
    "def plot_grouped_accuracy_bars(first_results: pd.Series, second_results: pd.Series, first_label, second_label):\n",
    "    \"\"\"\n",
    "    Plots a grouped bar chart comparing accuracy between two models from two pd.Series.\n",
    "\n",
    "    Args:\n",
    "        first_results (pd.Series): First series with index as categories and values as accuracy.\n",
    "        second_results (pd.Series): Second series with the same structure.\n",
    "        first_label (str): Label for the first series.\n",
    "        second_label (str): Label for the second series.\n",
    "    \"\"\"\n",
    "    # Align indexes just in case\n",
    "    common_index = first_results.index.intersection(second_results.index)\n",
    "    \n",
    "    first_values = first_results.loc[common_index].values\n",
    "    second_values = second_results.loc[common_index].values\n",
    "    \n",
    "    categories = common_index.tolist()\n",
    "\n",
    "    x = np.arange(len(categories))\n",
    "    width = 0.35\n",
    "\n",
    "    fig, ax = plt.subplots(figsize=(12, 6))\n",
    "\n",
    "    bars1 = ax.bar(x - width / 2, first_values, width, label=first_label, hatch='///', color='skyblue', edgecolor='black')\n",
    "    bars2 = ax.bar(x + width / 2, second_values, width, label=second_label, hatch='\\\\\\\\\\\\', color='lightcoral', edgecolor='black')\n",
    "\n",
    "    for bar in bars1 + bars2:\n",
    "        height = bar.get_height()\n",
    "        ax.annotate(f'{height:.2f}',\n",
    "                    xy=(bar.get_x() + bar.get_width() / 2, height),\n",
    "                    xytext=(0, 3),\n",
    "                    textcoords=\"offset points\",\n",
    "                    ha='center', va='bottom', fontsize=9)\n",
    "\n",
    "    ax.set_ylabel('Accuracy', fontsize=13)\n",
    "    ax.set_ylim(0, 1.05)\n",
    "    ax.set_xticks(x)\n",
    "    ax.set_xticklabels(categories, rotation=45, ha='right')\n",
    "    ax.legend()\n",
    "    plt.tight_layout()\n",
    "    plt.show()"
   ],
   "id": "5922c1a6afcdea42",
   "outputs": [],
   "execution_count": 92
  },
  {
   "metadata": {},
   "cell_type": "markdown",
   "source": "Function that extract the winning of the model (set the label for the winner)",
   "id": "b66b38f5f5ef47d3"
  },
  {
   "metadata": {
    "ExecuteTime": {
     "end_time": "2025-04-15T13:08:01.742614Z",
     "start_time": "2025-04-15T13:08:01.740435Z"
    }
   },
   "cell_type": "code",
   "source": [
    "def extract_winning(result_df: pd.DataFrame, win_label=\"CHATGPT\", lose_label=\"VICUNA13B\", tie_label=\"TIE\"):\n",
    "    extract_df = result_df.copy()\n",
    "\n",
    "    extract_df['win_res'] = extract_df['score'].apply(lambda x: x[0] - x[1])\n",
    "    extract_df['win_res'] = extract_df['win_res'].apply(\n",
    "        lambda x: win_label if x > 0 else lose_label if x < 0 else tie_label)\n",
    "\n",
    "    return extract_df"
   ],
   "id": "f739ec7bb6a5c20d",
   "outputs": [],
   "execution_count": 93
  },
  {
   "metadata": {},
   "cell_type": "markdown",
   "source": [
    "# Check mean accuracy and kappa coefficient\n",
    "In this chapter we recheck the results gained from the repeated experiments to check the similarity of:\n",
    "- mean **accuracy** with labels provided by the humans\n",
    "- **kappa correlation coefficient** with ground-truth (labels from the humans)  "
   ],
   "id": "9c8791a6325ec057"
  },
  {
   "metadata": {},
   "cell_type": "markdown",
   "source": "Read the questions and remain only their `category`",
   "id": "bd7de9913f1c57de"
  },
  {
   "metadata": {
    "ExecuteTime": {
     "end_time": "2025-04-15T13:08:01.769754Z",
     "start_time": "2025-04-15T13:08:01.763105Z"
    }
   },
   "cell_type": "code",
   "source": [
    "questions = pd.read_json('question.jsonl', lines=True)\n",
    "questions = questions.set_index('question_id').drop(['text'], axis=1)\n",
    "questions"
   ],
   "id": "193ad0725f9d374e",
   "outputs": [
    {
     "data": {
      "text/plain": [
       "            category\n",
       "question_id         \n",
       "1            generic\n",
       "2            generic\n",
       "3            generic\n",
       "4            generic\n",
       "5            generic\n",
       "...              ...\n",
       "76           writing\n",
       "77           writing\n",
       "78           writing\n",
       "79           writing\n",
       "80           writing\n",
       "\n",
       "[80 rows x 1 columns]"
      ],
      "text/html": [
       "<div>\n",
       "<style scoped>\n",
       "    .dataframe tbody tr th:only-of-type {\n",
       "        vertical-align: middle;\n",
       "    }\n",
       "\n",
       "    .dataframe tbody tr th {\n",
       "        vertical-align: top;\n",
       "    }\n",
       "\n",
       "    .dataframe thead th {\n",
       "        text-align: right;\n",
       "    }\n",
       "</style>\n",
       "<table border=\"1\" class=\"dataframe\">\n",
       "  <thead>\n",
       "    <tr style=\"text-align: right;\">\n",
       "      <th></th>\n",
       "      <th>category</th>\n",
       "    </tr>\n",
       "    <tr>\n",
       "      <th>question_id</th>\n",
       "      <th></th>\n",
       "    </tr>\n",
       "  </thead>\n",
       "  <tbody>\n",
       "    <tr>\n",
       "      <th>1</th>\n",
       "      <td>generic</td>\n",
       "    </tr>\n",
       "    <tr>\n",
       "      <th>2</th>\n",
       "      <td>generic</td>\n",
       "    </tr>\n",
       "    <tr>\n",
       "      <th>3</th>\n",
       "      <td>generic</td>\n",
       "    </tr>\n",
       "    <tr>\n",
       "      <th>4</th>\n",
       "      <td>generic</td>\n",
       "    </tr>\n",
       "    <tr>\n",
       "      <th>5</th>\n",
       "      <td>generic</td>\n",
       "    </tr>\n",
       "    <tr>\n",
       "      <th>...</th>\n",
       "      <td>...</td>\n",
       "    </tr>\n",
       "    <tr>\n",
       "      <th>76</th>\n",
       "      <td>writing</td>\n",
       "    </tr>\n",
       "    <tr>\n",
       "      <th>77</th>\n",
       "      <td>writing</td>\n",
       "    </tr>\n",
       "    <tr>\n",
       "      <th>78</th>\n",
       "      <td>writing</td>\n",
       "    </tr>\n",
       "    <tr>\n",
       "      <th>79</th>\n",
       "      <td>writing</td>\n",
       "    </tr>\n",
       "    <tr>\n",
       "      <th>80</th>\n",
       "      <td>writing</td>\n",
       "    </tr>\n",
       "  </tbody>\n",
       "</table>\n",
       "<p>80 rows × 1 columns</p>\n",
       "</div>"
      ]
     },
     "execution_count": 94,
     "metadata": {},
     "output_type": "execute_result"
    }
   ],
   "execution_count": 94
  },
  {
   "metadata": {},
   "cell_type": "markdown",
   "source": "Read and merge the results of human assessing as `ground_truth` for the further calculations ",
   "id": "adf73e6090e041a2"
  },
  {
   "metadata": {
    "ExecuteTime": {
     "end_time": "2025-04-15T13:08:01.807748Z",
     "start_time": "2025-04-15T13:08:01.804583Z"
    }
   },
   "cell_type": "code",
   "source": [
    "with open('./review/review_gpt35_vicuna-13b_human.txt', 'r', encoding='utf-8') as f:\n",
    "    text_lines = f.read().splitlines()\n",
    "\n",
    "len(text_lines)"
   ],
   "id": "b775f6e72cb8b3ca",
   "outputs": [
    {
     "data": {
      "text/plain": [
       "80"
      ]
     },
     "execution_count": 95,
     "metadata": {},
     "output_type": "execute_result"
    }
   ],
   "execution_count": 95
  },
  {
   "metadata": {
    "ExecuteTime": {
     "end_time": "2025-04-15T13:08:01.871879Z",
     "start_time": "2025-04-15T13:08:01.867993Z"
    }
   },
   "cell_type": "code",
   "source": [
    "questions['ground_truth'] = text_lines\n",
    "questions"
   ],
   "id": "338d5fdf22094032",
   "outputs": [
    {
     "data": {
      "text/plain": [
       "            category ground_truth\n",
       "question_id                      \n",
       "1            generic      CHATGPT\n",
       "2            generic          TIE\n",
       "3            generic    VICUNA13B\n",
       "4            generic    VICUNA13B\n",
       "5            generic    VICUNA13B\n",
       "...              ...          ...\n",
       "76           writing      CHATGPT\n",
       "77           writing      CHATGPT\n",
       "78           writing      CHATGPT\n",
       "79           writing      CHATGPT\n",
       "80           writing      CHATGPT\n",
       "\n",
       "[80 rows x 2 columns]"
      ],
      "text/html": [
       "<div>\n",
       "<style scoped>\n",
       "    .dataframe tbody tr th:only-of-type {\n",
       "        vertical-align: middle;\n",
       "    }\n",
       "\n",
       "    .dataframe tbody tr th {\n",
       "        vertical-align: top;\n",
       "    }\n",
       "\n",
       "    .dataframe thead th {\n",
       "        text-align: right;\n",
       "    }\n",
       "</style>\n",
       "<table border=\"1\" class=\"dataframe\">\n",
       "  <thead>\n",
       "    <tr style=\"text-align: right;\">\n",
       "      <th></th>\n",
       "      <th>category</th>\n",
       "      <th>ground_truth</th>\n",
       "    </tr>\n",
       "    <tr>\n",
       "      <th>question_id</th>\n",
       "      <th></th>\n",
       "      <th></th>\n",
       "    </tr>\n",
       "  </thead>\n",
       "  <tbody>\n",
       "    <tr>\n",
       "      <th>1</th>\n",
       "      <td>generic</td>\n",
       "      <td>CHATGPT</td>\n",
       "    </tr>\n",
       "    <tr>\n",
       "      <th>2</th>\n",
       "      <td>generic</td>\n",
       "      <td>TIE</td>\n",
       "    </tr>\n",
       "    <tr>\n",
       "      <th>3</th>\n",
       "      <td>generic</td>\n",
       "      <td>VICUNA13B</td>\n",
       "    </tr>\n",
       "    <tr>\n",
       "      <th>4</th>\n",
       "      <td>generic</td>\n",
       "      <td>VICUNA13B</td>\n",
       "    </tr>\n",
       "    <tr>\n",
       "      <th>5</th>\n",
       "      <td>generic</td>\n",
       "      <td>VICUNA13B</td>\n",
       "    </tr>\n",
       "    <tr>\n",
       "      <th>...</th>\n",
       "      <td>...</td>\n",
       "      <td>...</td>\n",
       "    </tr>\n",
       "    <tr>\n",
       "      <th>76</th>\n",
       "      <td>writing</td>\n",
       "      <td>CHATGPT</td>\n",
       "    </tr>\n",
       "    <tr>\n",
       "      <th>77</th>\n",
       "      <td>writing</td>\n",
       "      <td>CHATGPT</td>\n",
       "    </tr>\n",
       "    <tr>\n",
       "      <th>78</th>\n",
       "      <td>writing</td>\n",
       "      <td>CHATGPT</td>\n",
       "    </tr>\n",
       "    <tr>\n",
       "      <th>79</th>\n",
       "      <td>writing</td>\n",
       "      <td>CHATGPT</td>\n",
       "    </tr>\n",
       "    <tr>\n",
       "      <th>80</th>\n",
       "      <td>writing</td>\n",
       "      <td>CHATGPT</td>\n",
       "    </tr>\n",
       "  </tbody>\n",
       "</table>\n",
       "<p>80 rows × 2 columns</p>\n",
       "</div>"
      ]
     },
     "execution_count": 96,
     "metadata": {},
     "output_type": "execute_result"
    }
   ],
   "execution_count": 96
  },
  {
   "metadata": {},
   "cell_type": "markdown",
   "source": "Read the results of experiments into one ",
   "id": "edd4492b5643918c"
  },
  {
   "metadata": {
    "ExecuteTime": {
     "end_time": "2025-04-15T13:08:01.950829Z",
     "start_time": "2025-04-15T13:08:01.921912Z"
    }
   },
   "cell_type": "code",
   "source": [
    "judgement_result = {\n",
    "    'gpt4_k_1_bpc_0_t_1': pd.read_json('./review/review_gpt35_vicuna-13b_gpt-4_mec1_bpc0.jsonl', lines=True).set_index(\n",
    "        'question_id'),\n",
    "    'gpt4_k_3_bpc_0_t_1': pd.read_json('./review/review_gpt35_vicuna-13b_gpt-4_mec3_bpc0.jsonl', lines=True).set_index(\n",
    "        'question_id'),\n",
    "    'gpt4_k_6_bpc_0_t_1': pd.read_json('./review/review_gpt35_vicuna-13b_gpt-4_mec6_bpc0.jsonl', lines=True).set_index(\n",
    "        'question_id'),\n",
    "    'gpt4_k_3_bpc_1_t_1': pd.read_json('./review/review_gpt35_vicuna-13b_gpt-4_mec3_bpc1.jsonl', lines=True).set_index(\n",
    "        'question_id'),\n",
    "    'gpt35_k_1_bpc_0_t_1': pd.read_json('./review/review_gpt35_vicuna-13b_gpt-3.5-turbo_mec1_bpc0.jsonl',\n",
    "                                        lines=True).set_index(\n",
    "        'question_id'),\n",
    "    'gpt35_k_3_bpc_0_t_1': pd.read_json('./review/review_gpt35_vicuna-13b_gpt-3.5-turbo_mec3_bpc0.jsonl',\n",
    "                                        lines=True).set_index(\n",
    "        'question_id'),\n",
    "    'gpt35_k_6_bpc_0_t_1': pd.read_json('./review/review_gpt35_vicuna-13b_gpt-3.5-turbo_mec6_bpc0.jsonl',\n",
    "                                        lines=True).set_index(\n",
    "        'question_id'),\n",
    "    'gpt35_k_3_bpc_1_t_1': pd.read_json('./review/review_gpt35_vicuna-13b_gpt-3.5-turbo_mec3_bpc1.jsonl',\n",
    "                                        lines=True).set_index(\n",
    "        'question_id'),\n",
    "}\n",
    "\n",
    "judgement_result['gpt4_k_1_bpc_0_t_1']"
   ],
   "id": "8d1752593cba4e3a",
   "outputs": [
    {
     "data": {
      "text/plain": [
       "                                                      question  \\\n",
       "question_id                                                      \n",
       "1                 How can I improve my time management skills?   \n",
       "2            What are the most effective ways to deal with ...   \n",
       "3            What are the main differences between Python a...   \n",
       "4            How can I increase my productivity while worki...   \n",
       "5             Can you explain the basics of quantum computing?   \n",
       "...                                                        ...   \n",
       "76           Write a script for a YouTube video exploring t...   \n",
       "77           Compose an engaging travel blog post about a r...   \n",
       "78           Write a captivating movie review for a recentl...   \n",
       "79           Structure a podcast script for an episode disc...   \n",
       "80           Write a symphony concert review, discussing th...   \n",
       "\n",
       "                                                        review review_bpc  \\\n",
       "question_id                                                                 \n",
       "1            [Evaluation evidence: Both Assistant 1 and Ass...         []   \n",
       "2            [Evaluation evidence: Both assistants provided...         []   \n",
       "3            [Evaluation evidence: Both Assistant 1 and 2 p...         []   \n",
       "4            [Evaluation evidence: Both Assistant 1 and Ass...         []   \n",
       "5            [Evaluation evidence: Both assistants effectiv...         []   \n",
       "...                                                        ...        ...   \n",
       "76           [Evaluation evidence: Both assistants did an e...         []   \n",
       "77           [Evaluation evidence: Both Assistant 1 and Ass...         []   \n",
       "78           [Evaluation evidence: Both assistants provided...         []   \n",
       "79           [Evaluation evidence: Both Assistant 1 and 2 h...         []   \n",
       "80           [Evaluation evidence: Both Assistant 1 and Ass...         []   \n",
       "\n",
       "                cost         score  \n",
       "question_id                         \n",
       "1            0.03303   [10.0, 9.5]  \n",
       "2            0.02934   [9.0, 10.0]  \n",
       "3            0.03099   [10.0, 9.0]  \n",
       "4            0.03237    [9.0, 9.0]  \n",
       "5            0.03276    [9.5, 9.5]  \n",
       "...              ...           ...  \n",
       "76           0.03945   [10.0, 9.0]  \n",
       "77           0.04443    [9.5, 9.0]  \n",
       "78           0.03279    [9.0, 8.5]  \n",
       "79           0.03702    [9.0, 7.5]  \n",
       "80           0.03723  [10.0, 10.0]  \n",
       "\n",
       "[80 rows x 5 columns]"
      ],
      "text/html": [
       "<div>\n",
       "<style scoped>\n",
       "    .dataframe tbody tr th:only-of-type {\n",
       "        vertical-align: middle;\n",
       "    }\n",
       "\n",
       "    .dataframe tbody tr th {\n",
       "        vertical-align: top;\n",
       "    }\n",
       "\n",
       "    .dataframe thead th {\n",
       "        text-align: right;\n",
       "    }\n",
       "</style>\n",
       "<table border=\"1\" class=\"dataframe\">\n",
       "  <thead>\n",
       "    <tr style=\"text-align: right;\">\n",
       "      <th></th>\n",
       "      <th>question</th>\n",
       "      <th>review</th>\n",
       "      <th>review_bpc</th>\n",
       "      <th>cost</th>\n",
       "      <th>score</th>\n",
       "    </tr>\n",
       "    <tr>\n",
       "      <th>question_id</th>\n",
       "      <th></th>\n",
       "      <th></th>\n",
       "      <th></th>\n",
       "      <th></th>\n",
       "      <th></th>\n",
       "    </tr>\n",
       "  </thead>\n",
       "  <tbody>\n",
       "    <tr>\n",
       "      <th>1</th>\n",
       "      <td>How can I improve my time management skills?</td>\n",
       "      <td>[Evaluation evidence: Both Assistant 1 and Ass...</td>\n",
       "      <td>[]</td>\n",
       "      <td>0.03303</td>\n",
       "      <td>[10.0, 9.5]</td>\n",
       "    </tr>\n",
       "    <tr>\n",
       "      <th>2</th>\n",
       "      <td>What are the most effective ways to deal with ...</td>\n",
       "      <td>[Evaluation evidence: Both assistants provided...</td>\n",
       "      <td>[]</td>\n",
       "      <td>0.02934</td>\n",
       "      <td>[9.0, 10.0]</td>\n",
       "    </tr>\n",
       "    <tr>\n",
       "      <th>3</th>\n",
       "      <td>What are the main differences between Python a...</td>\n",
       "      <td>[Evaluation evidence: Both Assistant 1 and 2 p...</td>\n",
       "      <td>[]</td>\n",
       "      <td>0.03099</td>\n",
       "      <td>[10.0, 9.0]</td>\n",
       "    </tr>\n",
       "    <tr>\n",
       "      <th>4</th>\n",
       "      <td>How can I increase my productivity while worki...</td>\n",
       "      <td>[Evaluation evidence: Both Assistant 1 and Ass...</td>\n",
       "      <td>[]</td>\n",
       "      <td>0.03237</td>\n",
       "      <td>[9.0, 9.0]</td>\n",
       "    </tr>\n",
       "    <tr>\n",
       "      <th>5</th>\n",
       "      <td>Can you explain the basics of quantum computing?</td>\n",
       "      <td>[Evaluation evidence: Both assistants effectiv...</td>\n",
       "      <td>[]</td>\n",
       "      <td>0.03276</td>\n",
       "      <td>[9.5, 9.5]</td>\n",
       "    </tr>\n",
       "    <tr>\n",
       "      <th>...</th>\n",
       "      <td>...</td>\n",
       "      <td>...</td>\n",
       "      <td>...</td>\n",
       "      <td>...</td>\n",
       "      <td>...</td>\n",
       "    </tr>\n",
       "    <tr>\n",
       "      <th>76</th>\n",
       "      <td>Write a script for a YouTube video exploring t...</td>\n",
       "      <td>[Evaluation evidence: Both assistants did an e...</td>\n",
       "      <td>[]</td>\n",
       "      <td>0.03945</td>\n",
       "      <td>[10.0, 9.0]</td>\n",
       "    </tr>\n",
       "    <tr>\n",
       "      <th>77</th>\n",
       "      <td>Compose an engaging travel blog post about a r...</td>\n",
       "      <td>[Evaluation evidence: Both Assistant 1 and Ass...</td>\n",
       "      <td>[]</td>\n",
       "      <td>0.04443</td>\n",
       "      <td>[9.5, 9.0]</td>\n",
       "    </tr>\n",
       "    <tr>\n",
       "      <th>78</th>\n",
       "      <td>Write a captivating movie review for a recentl...</td>\n",
       "      <td>[Evaluation evidence: Both assistants provided...</td>\n",
       "      <td>[]</td>\n",
       "      <td>0.03279</td>\n",
       "      <td>[9.0, 8.5]</td>\n",
       "    </tr>\n",
       "    <tr>\n",
       "      <th>79</th>\n",
       "      <td>Structure a podcast script for an episode disc...</td>\n",
       "      <td>[Evaluation evidence: Both Assistant 1 and 2 h...</td>\n",
       "      <td>[]</td>\n",
       "      <td>0.03702</td>\n",
       "      <td>[9.0, 7.5]</td>\n",
       "    </tr>\n",
       "    <tr>\n",
       "      <th>80</th>\n",
       "      <td>Write a symphony concert review, discussing th...</td>\n",
       "      <td>[Evaluation evidence: Both Assistant 1 and Ass...</td>\n",
       "      <td>[]</td>\n",
       "      <td>0.03723</td>\n",
       "      <td>[10.0, 10.0]</td>\n",
       "    </tr>\n",
       "  </tbody>\n",
       "</table>\n",
       "<p>80 rows × 5 columns</p>\n",
       "</div>"
      ]
     },
     "execution_count": 97,
     "metadata": {},
     "output_type": "execute_result"
    }
   ],
   "execution_count": 97
  },
  {
   "metadata": {},
   "cell_type": "markdown",
   "source": [
    "Extract **winner** of judgement:\n",
    "* if the `first score > second score` -> CHATGPT\n",
    "* if the `first score < second score` -> VICUNA13B\n",
    "* if the `first score == second score` -> TIE"
   ],
   "id": "ed83ff2aa73321df"
  },
  {
   "metadata": {
    "ExecuteTime": {
     "end_time": "2025-04-15T13:08:02.026561Z",
     "start_time": "2025-04-15T13:08:02.014503Z"
    }
   },
   "cell_type": "code",
   "source": [
    "for idx, df in judgement_result.items():\n",
    "    judgement_result[idx] = pd.concat([questions, extract_winning(df)], axis=1)\n",
    "\n",
    "judgement_result['gpt4_k_1_bpc_0_t_1']"
   ],
   "id": "bfd5d58f540cb94",
   "outputs": [
    {
     "data": {
      "text/plain": [
       "            category ground_truth  \\\n",
       "question_id                         \n",
       "1            generic      CHATGPT   \n",
       "2            generic          TIE   \n",
       "3            generic    VICUNA13B   \n",
       "4            generic    VICUNA13B   \n",
       "5            generic    VICUNA13B   \n",
       "...              ...          ...   \n",
       "76           writing      CHATGPT   \n",
       "77           writing      CHATGPT   \n",
       "78           writing      CHATGPT   \n",
       "79           writing      CHATGPT   \n",
       "80           writing      CHATGPT   \n",
       "\n",
       "                                                      question  \\\n",
       "question_id                                                      \n",
       "1                 How can I improve my time management skills?   \n",
       "2            What are the most effective ways to deal with ...   \n",
       "3            What are the main differences between Python a...   \n",
       "4            How can I increase my productivity while worki...   \n",
       "5             Can you explain the basics of quantum computing?   \n",
       "...                                                        ...   \n",
       "76           Write a script for a YouTube video exploring t...   \n",
       "77           Compose an engaging travel blog post about a r...   \n",
       "78           Write a captivating movie review for a recentl...   \n",
       "79           Structure a podcast script for an episode disc...   \n",
       "80           Write a symphony concert review, discussing th...   \n",
       "\n",
       "                                                        review review_bpc  \\\n",
       "question_id                                                                 \n",
       "1            [Evaluation evidence: Both Assistant 1 and Ass...         []   \n",
       "2            [Evaluation evidence: Both assistants provided...         []   \n",
       "3            [Evaluation evidence: Both Assistant 1 and 2 p...         []   \n",
       "4            [Evaluation evidence: Both Assistant 1 and Ass...         []   \n",
       "5            [Evaluation evidence: Both assistants effectiv...         []   \n",
       "...                                                        ...        ...   \n",
       "76           [Evaluation evidence: Both assistants did an e...         []   \n",
       "77           [Evaluation evidence: Both Assistant 1 and Ass...         []   \n",
       "78           [Evaluation evidence: Both assistants provided...         []   \n",
       "79           [Evaluation evidence: Both Assistant 1 and 2 h...         []   \n",
       "80           [Evaluation evidence: Both Assistant 1 and Ass...         []   \n",
       "\n",
       "                cost         score    win_res  \n",
       "question_id                                    \n",
       "1            0.03303   [10.0, 9.5]    CHATGPT  \n",
       "2            0.02934   [9.0, 10.0]  VICUNA13B  \n",
       "3            0.03099   [10.0, 9.0]    CHATGPT  \n",
       "4            0.03237    [9.0, 9.0]        TIE  \n",
       "5            0.03276    [9.5, 9.5]        TIE  \n",
       "...              ...           ...        ...  \n",
       "76           0.03945   [10.0, 9.0]    CHATGPT  \n",
       "77           0.04443    [9.5, 9.0]    CHATGPT  \n",
       "78           0.03279    [9.0, 8.5]    CHATGPT  \n",
       "79           0.03702    [9.0, 7.5]    CHATGPT  \n",
       "80           0.03723  [10.0, 10.0]        TIE  \n",
       "\n",
       "[80 rows x 8 columns]"
      ],
      "text/html": [
       "<div>\n",
       "<style scoped>\n",
       "    .dataframe tbody tr th:only-of-type {\n",
       "        vertical-align: middle;\n",
       "    }\n",
       "\n",
       "    .dataframe tbody tr th {\n",
       "        vertical-align: top;\n",
       "    }\n",
       "\n",
       "    .dataframe thead th {\n",
       "        text-align: right;\n",
       "    }\n",
       "</style>\n",
       "<table border=\"1\" class=\"dataframe\">\n",
       "  <thead>\n",
       "    <tr style=\"text-align: right;\">\n",
       "      <th></th>\n",
       "      <th>category</th>\n",
       "      <th>ground_truth</th>\n",
       "      <th>question</th>\n",
       "      <th>review</th>\n",
       "      <th>review_bpc</th>\n",
       "      <th>cost</th>\n",
       "      <th>score</th>\n",
       "      <th>win_res</th>\n",
       "    </tr>\n",
       "    <tr>\n",
       "      <th>question_id</th>\n",
       "      <th></th>\n",
       "      <th></th>\n",
       "      <th></th>\n",
       "      <th></th>\n",
       "      <th></th>\n",
       "      <th></th>\n",
       "      <th></th>\n",
       "      <th></th>\n",
       "    </tr>\n",
       "  </thead>\n",
       "  <tbody>\n",
       "    <tr>\n",
       "      <th>1</th>\n",
       "      <td>generic</td>\n",
       "      <td>CHATGPT</td>\n",
       "      <td>How can I improve my time management skills?</td>\n",
       "      <td>[Evaluation evidence: Both Assistant 1 and Ass...</td>\n",
       "      <td>[]</td>\n",
       "      <td>0.03303</td>\n",
       "      <td>[10.0, 9.5]</td>\n",
       "      <td>CHATGPT</td>\n",
       "    </tr>\n",
       "    <tr>\n",
       "      <th>2</th>\n",
       "      <td>generic</td>\n",
       "      <td>TIE</td>\n",
       "      <td>What are the most effective ways to deal with ...</td>\n",
       "      <td>[Evaluation evidence: Both assistants provided...</td>\n",
       "      <td>[]</td>\n",
       "      <td>0.02934</td>\n",
       "      <td>[9.0, 10.0]</td>\n",
       "      <td>VICUNA13B</td>\n",
       "    </tr>\n",
       "    <tr>\n",
       "      <th>3</th>\n",
       "      <td>generic</td>\n",
       "      <td>VICUNA13B</td>\n",
       "      <td>What are the main differences between Python a...</td>\n",
       "      <td>[Evaluation evidence: Both Assistant 1 and 2 p...</td>\n",
       "      <td>[]</td>\n",
       "      <td>0.03099</td>\n",
       "      <td>[10.0, 9.0]</td>\n",
       "      <td>CHATGPT</td>\n",
       "    </tr>\n",
       "    <tr>\n",
       "      <th>4</th>\n",
       "      <td>generic</td>\n",
       "      <td>VICUNA13B</td>\n",
       "      <td>How can I increase my productivity while worki...</td>\n",
       "      <td>[Evaluation evidence: Both Assistant 1 and Ass...</td>\n",
       "      <td>[]</td>\n",
       "      <td>0.03237</td>\n",
       "      <td>[9.0, 9.0]</td>\n",
       "      <td>TIE</td>\n",
       "    </tr>\n",
       "    <tr>\n",
       "      <th>5</th>\n",
       "      <td>generic</td>\n",
       "      <td>VICUNA13B</td>\n",
       "      <td>Can you explain the basics of quantum computing?</td>\n",
       "      <td>[Evaluation evidence: Both assistants effectiv...</td>\n",
       "      <td>[]</td>\n",
       "      <td>0.03276</td>\n",
       "      <td>[9.5, 9.5]</td>\n",
       "      <td>TIE</td>\n",
       "    </tr>\n",
       "    <tr>\n",
       "      <th>...</th>\n",
       "      <td>...</td>\n",
       "      <td>...</td>\n",
       "      <td>...</td>\n",
       "      <td>...</td>\n",
       "      <td>...</td>\n",
       "      <td>...</td>\n",
       "      <td>...</td>\n",
       "      <td>...</td>\n",
       "    </tr>\n",
       "    <tr>\n",
       "      <th>76</th>\n",
       "      <td>writing</td>\n",
       "      <td>CHATGPT</td>\n",
       "      <td>Write a script for a YouTube video exploring t...</td>\n",
       "      <td>[Evaluation evidence: Both assistants did an e...</td>\n",
       "      <td>[]</td>\n",
       "      <td>0.03945</td>\n",
       "      <td>[10.0, 9.0]</td>\n",
       "      <td>CHATGPT</td>\n",
       "    </tr>\n",
       "    <tr>\n",
       "      <th>77</th>\n",
       "      <td>writing</td>\n",
       "      <td>CHATGPT</td>\n",
       "      <td>Compose an engaging travel blog post about a r...</td>\n",
       "      <td>[Evaluation evidence: Both Assistant 1 and Ass...</td>\n",
       "      <td>[]</td>\n",
       "      <td>0.04443</td>\n",
       "      <td>[9.5, 9.0]</td>\n",
       "      <td>CHATGPT</td>\n",
       "    </tr>\n",
       "    <tr>\n",
       "      <th>78</th>\n",
       "      <td>writing</td>\n",
       "      <td>CHATGPT</td>\n",
       "      <td>Write a captivating movie review for a recentl...</td>\n",
       "      <td>[Evaluation evidence: Both assistants provided...</td>\n",
       "      <td>[]</td>\n",
       "      <td>0.03279</td>\n",
       "      <td>[9.0, 8.5]</td>\n",
       "      <td>CHATGPT</td>\n",
       "    </tr>\n",
       "    <tr>\n",
       "      <th>79</th>\n",
       "      <td>writing</td>\n",
       "      <td>CHATGPT</td>\n",
       "      <td>Structure a podcast script for an episode disc...</td>\n",
       "      <td>[Evaluation evidence: Both Assistant 1 and 2 h...</td>\n",
       "      <td>[]</td>\n",
       "      <td>0.03702</td>\n",
       "      <td>[9.0, 7.5]</td>\n",
       "      <td>CHATGPT</td>\n",
       "    </tr>\n",
       "    <tr>\n",
       "      <th>80</th>\n",
       "      <td>writing</td>\n",
       "      <td>CHATGPT</td>\n",
       "      <td>Write a symphony concert review, discussing th...</td>\n",
       "      <td>[Evaluation evidence: Both Assistant 1 and Ass...</td>\n",
       "      <td>[]</td>\n",
       "      <td>0.03723</td>\n",
       "      <td>[10.0, 10.0]</td>\n",
       "      <td>TIE</td>\n",
       "    </tr>\n",
       "  </tbody>\n",
       "</table>\n",
       "<p>80 rows × 8 columns</p>\n",
       "</div>"
      ]
     },
     "execution_count": 98,
     "metadata": {},
     "output_type": "execute_result"
    }
   ],
   "execution_count": 98
  },
  {
   "metadata": {},
   "cell_type": "markdown",
   "source": "Create **flag** == `ground_truth` == `win_res` for accuracy calculations",
   "id": "17c0bc4257b98b39"
  },
  {
   "metadata": {
    "ExecuteTime": {
     "end_time": "2025-04-15T13:08:02.106546Z",
     "start_time": "2025-04-15T13:08:02.098165Z"
    }
   },
   "cell_type": "code",
   "source": [
    "for df in judgement_result.values():\n",
    "    df['result_hit'] = df['ground_truth'] == df['win_res']\n",
    "\n",
    "judgement_result['gpt4_k_1_bpc_0_t_1']"
   ],
   "id": "2da222ff756750e1",
   "outputs": [
    {
     "data": {
      "text/plain": [
       "            category ground_truth  \\\n",
       "question_id                         \n",
       "1            generic      CHATGPT   \n",
       "2            generic          TIE   \n",
       "3            generic    VICUNA13B   \n",
       "4            generic    VICUNA13B   \n",
       "5            generic    VICUNA13B   \n",
       "...              ...          ...   \n",
       "76           writing      CHATGPT   \n",
       "77           writing      CHATGPT   \n",
       "78           writing      CHATGPT   \n",
       "79           writing      CHATGPT   \n",
       "80           writing      CHATGPT   \n",
       "\n",
       "                                                      question  \\\n",
       "question_id                                                      \n",
       "1                 How can I improve my time management skills?   \n",
       "2            What are the most effective ways to deal with ...   \n",
       "3            What are the main differences between Python a...   \n",
       "4            How can I increase my productivity while worki...   \n",
       "5             Can you explain the basics of quantum computing?   \n",
       "...                                                        ...   \n",
       "76           Write a script for a YouTube video exploring t...   \n",
       "77           Compose an engaging travel blog post about a r...   \n",
       "78           Write a captivating movie review for a recentl...   \n",
       "79           Structure a podcast script for an episode disc...   \n",
       "80           Write a symphony concert review, discussing th...   \n",
       "\n",
       "                                                        review review_bpc  \\\n",
       "question_id                                                                 \n",
       "1            [Evaluation evidence: Both Assistant 1 and Ass...         []   \n",
       "2            [Evaluation evidence: Both assistants provided...         []   \n",
       "3            [Evaluation evidence: Both Assistant 1 and 2 p...         []   \n",
       "4            [Evaluation evidence: Both Assistant 1 and Ass...         []   \n",
       "5            [Evaluation evidence: Both assistants effectiv...         []   \n",
       "...                                                        ...        ...   \n",
       "76           [Evaluation evidence: Both assistants did an e...         []   \n",
       "77           [Evaluation evidence: Both Assistant 1 and Ass...         []   \n",
       "78           [Evaluation evidence: Both assistants provided...         []   \n",
       "79           [Evaluation evidence: Both Assistant 1 and 2 h...         []   \n",
       "80           [Evaluation evidence: Both Assistant 1 and Ass...         []   \n",
       "\n",
       "                cost         score    win_res  result_hit  \n",
       "question_id                                                \n",
       "1            0.03303   [10.0, 9.5]    CHATGPT        True  \n",
       "2            0.02934   [9.0, 10.0]  VICUNA13B       False  \n",
       "3            0.03099   [10.0, 9.0]    CHATGPT       False  \n",
       "4            0.03237    [9.0, 9.0]        TIE       False  \n",
       "5            0.03276    [9.5, 9.5]        TIE       False  \n",
       "...              ...           ...        ...         ...  \n",
       "76           0.03945   [10.0, 9.0]    CHATGPT        True  \n",
       "77           0.04443    [9.5, 9.0]    CHATGPT        True  \n",
       "78           0.03279    [9.0, 8.5]    CHATGPT        True  \n",
       "79           0.03702    [9.0, 7.5]    CHATGPT        True  \n",
       "80           0.03723  [10.0, 10.0]        TIE       False  \n",
       "\n",
       "[80 rows x 9 columns]"
      ],
      "text/html": [
       "<div>\n",
       "<style scoped>\n",
       "    .dataframe tbody tr th:only-of-type {\n",
       "        vertical-align: middle;\n",
       "    }\n",
       "\n",
       "    .dataframe tbody tr th {\n",
       "        vertical-align: top;\n",
       "    }\n",
       "\n",
       "    .dataframe thead th {\n",
       "        text-align: right;\n",
       "    }\n",
       "</style>\n",
       "<table border=\"1\" class=\"dataframe\">\n",
       "  <thead>\n",
       "    <tr style=\"text-align: right;\">\n",
       "      <th></th>\n",
       "      <th>category</th>\n",
       "      <th>ground_truth</th>\n",
       "      <th>question</th>\n",
       "      <th>review</th>\n",
       "      <th>review_bpc</th>\n",
       "      <th>cost</th>\n",
       "      <th>score</th>\n",
       "      <th>win_res</th>\n",
       "      <th>result_hit</th>\n",
       "    </tr>\n",
       "    <tr>\n",
       "      <th>question_id</th>\n",
       "      <th></th>\n",
       "      <th></th>\n",
       "      <th></th>\n",
       "      <th></th>\n",
       "      <th></th>\n",
       "      <th></th>\n",
       "      <th></th>\n",
       "      <th></th>\n",
       "      <th></th>\n",
       "    </tr>\n",
       "  </thead>\n",
       "  <tbody>\n",
       "    <tr>\n",
       "      <th>1</th>\n",
       "      <td>generic</td>\n",
       "      <td>CHATGPT</td>\n",
       "      <td>How can I improve my time management skills?</td>\n",
       "      <td>[Evaluation evidence: Both Assistant 1 and Ass...</td>\n",
       "      <td>[]</td>\n",
       "      <td>0.03303</td>\n",
       "      <td>[10.0, 9.5]</td>\n",
       "      <td>CHATGPT</td>\n",
       "      <td>True</td>\n",
       "    </tr>\n",
       "    <tr>\n",
       "      <th>2</th>\n",
       "      <td>generic</td>\n",
       "      <td>TIE</td>\n",
       "      <td>What are the most effective ways to deal with ...</td>\n",
       "      <td>[Evaluation evidence: Both assistants provided...</td>\n",
       "      <td>[]</td>\n",
       "      <td>0.02934</td>\n",
       "      <td>[9.0, 10.0]</td>\n",
       "      <td>VICUNA13B</td>\n",
       "      <td>False</td>\n",
       "    </tr>\n",
       "    <tr>\n",
       "      <th>3</th>\n",
       "      <td>generic</td>\n",
       "      <td>VICUNA13B</td>\n",
       "      <td>What are the main differences between Python a...</td>\n",
       "      <td>[Evaluation evidence: Both Assistant 1 and 2 p...</td>\n",
       "      <td>[]</td>\n",
       "      <td>0.03099</td>\n",
       "      <td>[10.0, 9.0]</td>\n",
       "      <td>CHATGPT</td>\n",
       "      <td>False</td>\n",
       "    </tr>\n",
       "    <tr>\n",
       "      <th>4</th>\n",
       "      <td>generic</td>\n",
       "      <td>VICUNA13B</td>\n",
       "      <td>How can I increase my productivity while worki...</td>\n",
       "      <td>[Evaluation evidence: Both Assistant 1 and Ass...</td>\n",
       "      <td>[]</td>\n",
       "      <td>0.03237</td>\n",
       "      <td>[9.0, 9.0]</td>\n",
       "      <td>TIE</td>\n",
       "      <td>False</td>\n",
       "    </tr>\n",
       "    <tr>\n",
       "      <th>5</th>\n",
       "      <td>generic</td>\n",
       "      <td>VICUNA13B</td>\n",
       "      <td>Can you explain the basics of quantum computing?</td>\n",
       "      <td>[Evaluation evidence: Both assistants effectiv...</td>\n",
       "      <td>[]</td>\n",
       "      <td>0.03276</td>\n",
       "      <td>[9.5, 9.5]</td>\n",
       "      <td>TIE</td>\n",
       "      <td>False</td>\n",
       "    </tr>\n",
       "    <tr>\n",
       "      <th>...</th>\n",
       "      <td>...</td>\n",
       "      <td>...</td>\n",
       "      <td>...</td>\n",
       "      <td>...</td>\n",
       "      <td>...</td>\n",
       "      <td>...</td>\n",
       "      <td>...</td>\n",
       "      <td>...</td>\n",
       "      <td>...</td>\n",
       "    </tr>\n",
       "    <tr>\n",
       "      <th>76</th>\n",
       "      <td>writing</td>\n",
       "      <td>CHATGPT</td>\n",
       "      <td>Write a script for a YouTube video exploring t...</td>\n",
       "      <td>[Evaluation evidence: Both assistants did an e...</td>\n",
       "      <td>[]</td>\n",
       "      <td>0.03945</td>\n",
       "      <td>[10.0, 9.0]</td>\n",
       "      <td>CHATGPT</td>\n",
       "      <td>True</td>\n",
       "    </tr>\n",
       "    <tr>\n",
       "      <th>77</th>\n",
       "      <td>writing</td>\n",
       "      <td>CHATGPT</td>\n",
       "      <td>Compose an engaging travel blog post about a r...</td>\n",
       "      <td>[Evaluation evidence: Both Assistant 1 and Ass...</td>\n",
       "      <td>[]</td>\n",
       "      <td>0.04443</td>\n",
       "      <td>[9.5, 9.0]</td>\n",
       "      <td>CHATGPT</td>\n",
       "      <td>True</td>\n",
       "    </tr>\n",
       "    <tr>\n",
       "      <th>78</th>\n",
       "      <td>writing</td>\n",
       "      <td>CHATGPT</td>\n",
       "      <td>Write a captivating movie review for a recentl...</td>\n",
       "      <td>[Evaluation evidence: Both assistants provided...</td>\n",
       "      <td>[]</td>\n",
       "      <td>0.03279</td>\n",
       "      <td>[9.0, 8.5]</td>\n",
       "      <td>CHATGPT</td>\n",
       "      <td>True</td>\n",
       "    </tr>\n",
       "    <tr>\n",
       "      <th>79</th>\n",
       "      <td>writing</td>\n",
       "      <td>CHATGPT</td>\n",
       "      <td>Structure a podcast script for an episode disc...</td>\n",
       "      <td>[Evaluation evidence: Both Assistant 1 and 2 h...</td>\n",
       "      <td>[]</td>\n",
       "      <td>0.03702</td>\n",
       "      <td>[9.0, 7.5]</td>\n",
       "      <td>CHATGPT</td>\n",
       "      <td>True</td>\n",
       "    </tr>\n",
       "    <tr>\n",
       "      <th>80</th>\n",
       "      <td>writing</td>\n",
       "      <td>CHATGPT</td>\n",
       "      <td>Write a symphony concert review, discussing th...</td>\n",
       "      <td>[Evaluation evidence: Both Assistant 1 and Ass...</td>\n",
       "      <td>[]</td>\n",
       "      <td>0.03723</td>\n",
       "      <td>[10.0, 10.0]</td>\n",
       "      <td>TIE</td>\n",
       "      <td>False</td>\n",
       "    </tr>\n",
       "  </tbody>\n",
       "</table>\n",
       "<p>80 rows × 9 columns</p>\n",
       "</div>"
      ]
     },
     "execution_count": 99,
     "metadata": {},
     "output_type": "execute_result"
    }
   ],
   "execution_count": 99
  },
  {
   "metadata": {},
   "cell_type": "markdown",
   "source": "Calculate `accuracy` (percentage of matches between ground-truth and judgement) in the map",
   "id": "b9eb9991a3e6f607"
  },
  {
   "metadata": {
    "ExecuteTime": {
     "end_time": "2025-04-15T13:08:02.182143Z",
     "start_time": "2025-04-15T13:08:02.178822Z"
    }
   },
   "cell_type": "code",
   "source": [
    "accuracy_map = {}\n",
    "\n",
    "for idx, df in judgement_result.items():\n",
    "    accuracy_map[idx] = df[\"result_hit\"].mean() * 100\n",
    "\n",
    "accuracy_map"
   ],
   "id": "20ea5ec49de90cad",
   "outputs": [
    {
     "data": {
      "text/plain": [
       "{'gpt4_k_1_bpc_0_t_1': np.float64(58.75),\n",
       " 'gpt4_k_3_bpc_0_t_1': np.float64(61.25000000000001),\n",
       " 'gpt4_k_6_bpc_0_t_1': np.float64(60.0),\n",
       " 'gpt4_k_3_bpc_1_t_1': np.float64(60.0),\n",
       " 'gpt35_k_1_bpc_0_t_1': np.float64(62.5),\n",
       " 'gpt35_k_3_bpc_0_t_1': np.float64(60.0),\n",
       " 'gpt35_k_6_bpc_0_t_1': np.float64(61.25000000000001),\n",
       " 'gpt35_k_3_bpc_1_t_1': np.float64(58.75)}"
      ]
     },
     "execution_count": 100,
     "metadata": {},
     "output_type": "execute_result"
    }
   ],
   "execution_count": 100
  },
  {
   "metadata": {},
   "cell_type": "markdown",
   "source": "Calculate `kappa correlation coefficient` in the map",
   "id": "d2f8fe846c1ab88d"
  },
  {
   "metadata": {
    "ExecuteTime": {
     "end_time": "2025-04-15T13:08:02.273678Z",
     "start_time": "2025-04-15T13:08:02.266543Z"
    }
   },
   "cell_type": "code",
   "source": [
    "kappa_map = {}\n",
    "\n",
    "for idx, df in judgement_result.items():\n",
    "    kappa_map[idx] = cohen_kappa_score(df[\"ground_truth\"], df[\"win_res\"])\n",
    "    \n",
    "kappa_map"
   ],
   "id": "e66ddd73d6469419",
   "outputs": [
    {
     "data": {
      "text/plain": [
       "{'gpt4_k_1_bpc_0_t_1': np.float64(0.3178294573643411),\n",
       " 'gpt4_k_3_bpc_0_t_1': np.float64(0.33494234379190124),\n",
       " 'gpt4_k_6_bpc_0_t_1': np.float64(0.29939792008757526),\n",
       " 'gpt4_k_3_bpc_1_t_1': np.float64(0.32790758729325276),\n",
       " 'gpt35_k_1_bpc_0_t_1': np.float64(0.36390140471773114),\n",
       " 'gpt35_k_3_bpc_0_t_1': np.float64(0.29728245951139176),\n",
       " 'gpt35_k_6_bpc_0_t_1': np.float64(0.32129173508483844),\n",
       " 'gpt35_k_3_bpc_1_t_1': np.float64(0.33501259445843834)}"
      ]
     },
     "execution_count": 101,
     "metadata": {},
     "output_type": "execute_result"
    }
   ],
   "execution_count": 101
  },
  {
   "metadata": {},
   "cell_type": "markdown",
   "source": "## Drawing conclusions",
   "id": "42d05769cf6a05e"
  },
  {
   "metadata": {},
   "cell_type": "markdown",
   "source": "Define description map for every preset of parameters",
   "id": "2245a7238146a900"
  },
  {
   "metadata": {
    "ExecuteTime": {
     "end_time": "2025-04-15T13:08:02.346168Z",
     "start_time": "2025-04-15T13:08:02.343747Z"
    }
   },
   "cell_type": "code",
   "source": [
    "DESCRIPTION_MAP = {\n",
    "    'gpt4_k_1_bpc_0_t_1': {\n",
    "        'judge': 'GPT-4',\n",
    "        'description': 'EC (k = 1)'\n",
    "    },\n",
    "    'gpt4_k_3_bpc_0_t_1': {\n",
    "        'judge': 'GPT-4',\n",
    "        'description': 'MEC (k = 3)'\n",
    "    },\n",
    "    'gpt4_k_6_bpc_0_t_1': {\n",
    "        'judge': 'GPT-4',\n",
    "        'description': 'MEC (k = 6)'\n",
    "    },\n",
    "    'gpt4_k_3_bpc_1_t_1': {\n",
    "        'judge': 'GPT-4',\n",
    "        'description': 'MEC (k = 3) + BPC (k = 3)'\n",
    "    },\n",
    "    'gpt35_k_1_bpc_0_t_1': {\n",
    "        'judge': 'GPT-3.5',\n",
    "        'description': 'EC (k = 1)'\n",
    "    },\n",
    "    'gpt35_k_3_bpc_0_t_1': {\n",
    "        'judge': 'GPT-3.5',\n",
    "        'description': 'MEC (k = 3)'\n",
    "    },\n",
    "    'gpt35_k_6_bpc_0_t_1': {\n",
    "        'judge': 'GPT-3.5',\n",
    "        'description': 'MEC (k = 6)'\n",
    "    },\n",
    "    'gpt35_k_3_bpc_1_t_1': {\n",
    "        'judge': 'GPT-3.5',\n",
    "        'description': 'MEC (k = 3) + BPC (k = 3)'\n",
    "    },\n",
    "}"
   ],
   "id": "a5873061430c1acb",
   "outputs": [],
   "execution_count": 102
  },
  {
   "metadata": {},
   "cell_type": "markdown",
   "source": "Create a final judgement table",
   "id": "aa8aa9dd37ae2db7"
  },
  {
   "metadata": {
    "ExecuteTime": {
     "end_time": "2025-04-15T13:08:02.373091Z",
     "start_time": "2025-04-15T13:08:02.368106Z"
    }
   },
   "cell_type": "code",
   "source": [
    "final_table = pd.DataFrame({\n",
    "    \"judge\": [v[\"judge\"] for v in DESCRIPTION_MAP.values()],\n",
    "    \"description\": [v[\"description\"] for v in DESCRIPTION_MAP.values()],\n",
    "    \"accuracy\": accuracy_map.values(),\n",
    "    \"kappa\": kappa_map.values(),\n",
    "}, index=accuracy_map.keys())\n",
    "\n",
    "final_table"
   ],
   "id": "854f34e6fd8fa8a3",
   "outputs": [
    {
     "data": {
      "text/plain": [
       "                       judge                description  accuracy     kappa\n",
       "gpt4_k_1_bpc_0_t_1     GPT-4                 EC (k = 1)     58.75  0.317829\n",
       "gpt4_k_3_bpc_0_t_1     GPT-4                MEC (k = 3)     61.25  0.334942\n",
       "gpt4_k_6_bpc_0_t_1     GPT-4                MEC (k = 6)     60.00  0.299398\n",
       "gpt4_k_3_bpc_1_t_1     GPT-4  MEC (k = 3) + BPC (k = 3)     60.00  0.327908\n",
       "gpt35_k_1_bpc_0_t_1  GPT-3.5                 EC (k = 1)     62.50  0.363901\n",
       "gpt35_k_3_bpc_0_t_1  GPT-3.5                MEC (k = 3)     60.00  0.297282\n",
       "gpt35_k_6_bpc_0_t_1  GPT-3.5                MEC (k = 6)     61.25  0.321292\n",
       "gpt35_k_3_bpc_1_t_1  GPT-3.5  MEC (k = 3) + BPC (k = 3)     58.75  0.335013"
      ],
      "text/html": [
       "<div>\n",
       "<style scoped>\n",
       "    .dataframe tbody tr th:only-of-type {\n",
       "        vertical-align: middle;\n",
       "    }\n",
       "\n",
       "    .dataframe tbody tr th {\n",
       "        vertical-align: top;\n",
       "    }\n",
       "\n",
       "    .dataframe thead th {\n",
       "        text-align: right;\n",
       "    }\n",
       "</style>\n",
       "<table border=\"1\" class=\"dataframe\">\n",
       "  <thead>\n",
       "    <tr style=\"text-align: right;\">\n",
       "      <th></th>\n",
       "      <th>judge</th>\n",
       "      <th>description</th>\n",
       "      <th>accuracy</th>\n",
       "      <th>kappa</th>\n",
       "    </tr>\n",
       "  </thead>\n",
       "  <tbody>\n",
       "    <tr>\n",
       "      <th>gpt4_k_1_bpc_0_t_1</th>\n",
       "      <td>GPT-4</td>\n",
       "      <td>EC (k = 1)</td>\n",
       "      <td>58.75</td>\n",
       "      <td>0.317829</td>\n",
       "    </tr>\n",
       "    <tr>\n",
       "      <th>gpt4_k_3_bpc_0_t_1</th>\n",
       "      <td>GPT-4</td>\n",
       "      <td>MEC (k = 3)</td>\n",
       "      <td>61.25</td>\n",
       "      <td>0.334942</td>\n",
       "    </tr>\n",
       "    <tr>\n",
       "      <th>gpt4_k_6_bpc_0_t_1</th>\n",
       "      <td>GPT-4</td>\n",
       "      <td>MEC (k = 6)</td>\n",
       "      <td>60.00</td>\n",
       "      <td>0.299398</td>\n",
       "    </tr>\n",
       "    <tr>\n",
       "      <th>gpt4_k_3_bpc_1_t_1</th>\n",
       "      <td>GPT-4</td>\n",
       "      <td>MEC (k = 3) + BPC (k = 3)</td>\n",
       "      <td>60.00</td>\n",
       "      <td>0.327908</td>\n",
       "    </tr>\n",
       "    <tr>\n",
       "      <th>gpt35_k_1_bpc_0_t_1</th>\n",
       "      <td>GPT-3.5</td>\n",
       "      <td>EC (k = 1)</td>\n",
       "      <td>62.50</td>\n",
       "      <td>0.363901</td>\n",
       "    </tr>\n",
       "    <tr>\n",
       "      <th>gpt35_k_3_bpc_0_t_1</th>\n",
       "      <td>GPT-3.5</td>\n",
       "      <td>MEC (k = 3)</td>\n",
       "      <td>60.00</td>\n",
       "      <td>0.297282</td>\n",
       "    </tr>\n",
       "    <tr>\n",
       "      <th>gpt35_k_6_bpc_0_t_1</th>\n",
       "      <td>GPT-3.5</td>\n",
       "      <td>MEC (k = 6)</td>\n",
       "      <td>61.25</td>\n",
       "      <td>0.321292</td>\n",
       "    </tr>\n",
       "    <tr>\n",
       "      <th>gpt35_k_3_bpc_1_t_1</th>\n",
       "      <td>GPT-3.5</td>\n",
       "      <td>MEC (k = 3) + BPC (k = 3)</td>\n",
       "      <td>58.75</td>\n",
       "      <td>0.335013</td>\n",
       "    </tr>\n",
       "  </tbody>\n",
       "</table>\n",
       "</div>"
      ]
     },
     "execution_count": 103,
     "metadata": {},
     "output_type": "execute_result"
    }
   ],
   "execution_count": 103
  },
  {
   "metadata": {},
   "cell_type": "markdown",
   "source": "![Paper results](./fig/first_experiment.png)",
   "id": "d92c1c709aec7f4"
  },
  {
   "metadata": {},
   "cell_type": "markdown",
   "source": [
    "# Check categories accuracy\n",
    "In this chapter I try to repeat check for the results between different **categories** of questions\n",
    "\n",
    "Two preset are going to be compared:\n",
    "1. **EC (k = 1)** - the worst option except for Vanilla (according to paper)\n",
    "2. **MEC (k = 3) + BPC (k = 3)** - the best option without human participation (according to paper)"
   ],
   "id": "3db4c8bd984aed7b"
  },
  {
   "metadata": {
    "ExecuteTime": {
     "end_time": "2025-04-15T13:08:02.411220Z",
     "start_time": "2025-04-15T13:08:02.408952Z"
    }
   },
   "cell_type": "code",
   "source": "BEST_PARAMETERS_SET = 'k_3_bpc_1_t_1'",
   "id": "2b629684cf5e4fa5",
   "outputs": [],
   "execution_count": 104
  },
  {
   "metadata": {
    "ExecuteTime": {
     "end_time": "2025-04-15T13:08:02.442240Z",
     "start_time": "2025-04-15T13:08:02.440584Z"
    }
   },
   "cell_type": "code",
   "source": "WORST_PARAMETERS_SET = 'k_1_bpc_0_t_1'",
   "id": "30dcb466dd71d50e",
   "outputs": [],
   "execution_count": 105
  },
  {
   "metadata": {},
   "cell_type": "markdown",
   "source": [
    "## GPT-4\n",
    "Extract accuracy grouped by categories in the worst and best cases for **GPT-4**"
   ],
   "id": "98e31f999bd5a767"
  },
  {
   "metadata": {
    "ExecuteTime": {
     "end_time": "2025-04-15T13:08:02.488450Z",
     "start_time": "2025-04-15T13:08:02.484446Z"
    }
   },
   "cell_type": "code",
   "source": [
    "gpt4_best_category_acc = judgement_result[f\"gpt4_{BEST_PARAMETERS_SET}\"].groupby('category')['result_hit'].mean()\n",
    "gpt4_best_category_acc"
   ],
   "id": "e52a2101e71a5a28",
   "outputs": [
    {
     "data": {
      "text/plain": [
       "category\n",
       "coding            0.714286\n",
       "common-sense      0.600000\n",
       "counterfactual    0.400000\n",
       "fermi             0.600000\n",
       "generic           0.600000\n",
       "knowledge         0.500000\n",
       "math              0.666667\n",
       "roleplay          0.600000\n",
       "writing           0.800000\n",
       "Name: result_hit, dtype: float64"
      ]
     },
     "execution_count": 106,
     "metadata": {},
     "output_type": "execute_result"
    }
   ],
   "execution_count": 106
  },
  {
   "metadata": {
    "ExecuteTime": {
     "end_time": "2025-04-15T13:08:02.533796Z",
     "start_time": "2025-04-15T13:08:02.530450Z"
    }
   },
   "cell_type": "code",
   "source": [
    "gpt4_worst_category_acc = judgement_result[f\"gpt4_{WORST_PARAMETERS_SET}\"].groupby('category')['result_hit'].mean()\n",
    "\n",
    "gpt4_worst_category_acc"
   ],
   "id": "9a88b44fe9652afc",
   "outputs": [
    {
     "data": {
      "text/plain": [
       "category\n",
       "coding            1.000000\n",
       "common-sense      0.700000\n",
       "counterfactual    0.500000\n",
       "fermi             0.600000\n",
       "generic           0.400000\n",
       "knowledge         0.300000\n",
       "math              0.666667\n",
       "roleplay          0.500000\n",
       "writing           0.800000\n",
       "Name: result_hit, dtype: float64"
      ]
     },
     "execution_count": 107,
     "metadata": {},
     "output_type": "execute_result"
    }
   ],
   "execution_count": 107
  },
  {
   "metadata": {},
   "cell_type": "markdown",
   "source": "Plot the same chart as in the paper",
   "id": "681f75f57a50802e"
  },
  {
   "metadata": {
    "ExecuteTime": {
     "end_time": "2025-04-15T13:08:02.692923Z",
     "start_time": "2025-04-15T13:08:02.596203Z"
    }
   },
   "cell_type": "code",
   "source": "plot_grouped_accuracy_bars(gpt4_best_category_acc, gpt4_worst_category_acc, second_label=\"EC (k = 1)\", first_label='MEC (k = 3) + BPC (k = 3)')",
   "id": "e1aaccdc577eec36",
   "outputs": [
    {
     "data": {
      "text/plain": [
       "<Figure size 1200x600 with 1 Axes>"
      ],
      "image/png": "[encoded data removed]"
     },
     "metadata": {},
     "output_type": "display_data"
    }
   ],
   "execution_count": 108
  },
  {
   "metadata": {},
   "cell_type": "markdown",
   "source": "![Paper results](./fig/gpt4_categories.png)",
   "id": "5cdd740a635f5fd5"
  },
  {
   "metadata": {},
   "cell_type": "markdown",
   "source": [
    "## GPT 3.5\n",
    "Calculate the accuracy across categories for GPT 3.5"
   ],
   "id": "37d6f70e2af823bd"
  },
  {
   "metadata": {
    "ExecuteTime": {
     "end_time": "2025-04-15T13:08:02.711820Z",
     "start_time": "2025-04-15T13:08:02.708601Z"
    }
   },
   "cell_type": "code",
   "source": [
    "gpt3_5_best_category_acc = judgement_result[f\"gpt35_{BEST_PARAMETERS_SET}\"].groupby('category')['result_hit'].mean()\n",
    "\n",
    "gpt3_5_best_category_acc"
   ],
   "id": "15f4fc6bf0a8204e",
   "outputs": [
    {
     "data": {
      "text/plain": [
       "category\n",
       "coding            0.857143\n",
       "common-sense      0.600000\n",
       "counterfactual    0.500000\n",
       "fermi             0.500000\n",
       "generic           0.600000\n",
       "knowledge         0.500000\n",
       "math              0.666667\n",
       "roleplay          0.400000\n",
       "writing           0.800000\n",
       "Name: result_hit, dtype: float64"
      ]
     },
     "execution_count": 109,
     "metadata": {},
     "output_type": "execute_result"
    }
   ],
   "execution_count": 109
  },
  {
   "metadata": {
    "ExecuteTime": {
     "end_time": "2025-04-15T13:08:02.745651Z",
     "start_time": "2025-04-15T13:08:02.742182Z"
    }
   },
   "cell_type": "code",
   "source": [
    "gpt3_5_worst_category_acc = judgement_result[f\"gpt35_{WORST_PARAMETERS_SET}\"].groupby('category')['result_hit'].mean()\n",
    "\n",
    "gpt3_5_worst_category_acc"
   ],
   "id": "60f9573f4c5c1aba",
   "outputs": [
    {
     "data": {
      "text/plain": [
       "category\n",
       "coding            0.714286\n",
       "common-sense      0.700000\n",
       "counterfactual    0.600000\n",
       "fermi             0.500000\n",
       "generic           0.500000\n",
       "knowledge         0.600000\n",
       "math              1.000000\n",
       "roleplay          0.500000\n",
       "writing           0.800000\n",
       "Name: result_hit, dtype: float64"
      ]
     },
     "execution_count": 110,
     "metadata": {},
     "output_type": "execute_result"
    }
   ],
   "execution_count": 110
  },
  {
   "metadata": {},
   "cell_type": "markdown",
   "source": "Plot the same chart as in the paper",
   "id": "fb36dc4d183643ca"
  },
  {
   "metadata": {
    "ExecuteTime": {
     "end_time": "2025-04-15T13:08:02.889034Z",
     "start_time": "2025-04-15T13:08:02.789858Z"
    }
   },
   "cell_type": "code",
   "source": "plot_grouped_accuracy_bars(gpt3_5_best_category_acc, gpt3_5_worst_category_acc, second_label=\"EC (k = 1)\", first_label='MEC (k = 3) + BPC (k = 3)')",
   "id": "f56467f6353d30c2",
   "outputs": [
    {
     "data": {
      "text/plain": [
       "<Figure size 1200x600 with 1 Axes>"
      ],
      "image/png": "[encoded data removed]"
     },
     "metadata": {},
     "output_type": "display_data"
    }
   ],
   "execution_count": 111
  },
  {
   "metadata": {},
   "cell_type": "markdown",
   "source": "![Paper results](./fig/gpt3_5_categories.png)",
   "id": "e262ca5dda2cf1f2"
  }
 ],
 "metadata": {
  "kernelspec": {
   "display_name": "Python 3",
   "language": "python",
   "name": "python3"
  },
  "language_info": {
   "codemirror_mode": {
    "name": "ipython",
    "version": 2
   },
   "file_extension": ".py",
   "mimetype": "text/x-python",
   "name": "python",
   "nbconvert_exporter": "python",
   "pygments_lexer": "ipython2",
   "version": "2.7.6"
  }
 },
 "nbformat": 4,
 "nbformat_minor": 5
}
